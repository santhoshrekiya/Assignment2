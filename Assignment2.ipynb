{
 "cells": [
  {
   "cell_type": "code",
   "execution_count": 1,
   "metadata": {},
   "outputs": [
    {
     "name": "stdout",
     "output_type": "stream",
     "text": [
      "*\n",
      "**\n",
      "***\n",
      "****\n",
      "*****\n",
      "****\n",
      "***\n",
      "**\n",
      "*\n"
     ]
    }
   ],
   "source": [
    "#1. Create the below pattern using nested for loop in Python.\n",
    "var1 = 5 * [\"*\"]\n",
    "loop = len(var1)\n",
    "var2 = []\n",
    "for i in range(loop):\n",
    "    var2.append(var1[i])\n",
    "#    print(var2)\n",
    "    print(''.join(var2))\n",
    "for i in range(loop):\n",
    "    var2.remove(\"*\")\n",
    "#    print(var2)\n",
    "    print(''.join(var2))\n",
    "    if(len(var2)==1):\n",
    "        break"
   ]
  },
  {
   "cell_type": "code",
   "execution_count": 2,
   "metadata": {},
   "outputs": [
    {
     "name": "stdout",
     "output_type": "stream",
     "text": [
      "please enter namesanthosh\n",
      "hsohtnas\n"
     ]
    }
   ],
   "source": [
    "#2.Write a Python program to reverse a word after accepting the input from the user.\n",
    "nam = list(input(\"please enter name\"))\n",
    "print(''.join(nam[::-1]))"
   ]
  },
  {
   "cell_type": "code",
   "execution_count": null,
   "metadata": {},
   "outputs": [],
   "source": []
  }
 ],
 "metadata": {
  "kernelspec": {
   "display_name": "Python 3",
   "language": "python",
   "name": "python3"
  },
  "language_info": {
   "codemirror_mode": {
    "name": "ipython",
    "version": 3
   },
   "file_extension": ".py",
   "mimetype": "text/x-python",
   "name": "python",
   "nbconvert_exporter": "python",
   "pygments_lexer": "ipython3",
   "version": "3.7.0"
  }
 },
 "nbformat": 4,
 "nbformat_minor": 2
}
